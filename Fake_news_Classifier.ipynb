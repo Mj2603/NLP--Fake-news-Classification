{
  "nbformat": 4,
  "nbformat_minor": 0,
  "metadata": {
    "colab": {
      "provenance": [],
      "authorship_tag": "ABX9TyMmLT25DecW8D/pt5vLW4eh",
      "include_colab_link": true
    },
    "kernelspec": {
      "name": "python3",
      "display_name": "Python 3"
    },
    "language_info": {
      "name": "python"
    }
  },
  "cells": [
    {
      "cell_type": "markdown",
      "metadata": {
        "id": "view-in-github",
        "colab_type": "text"
      },
      "source": [
        "<a href=\"https://colab.research.google.com/github/Mj2603/NLP--Fake-news-Classification/blob/main/Fake_news_Classifier.ipynb\" target=\"_parent\"><img src=\"https://colab.research.google.com/assets/colab-badge.svg\" alt=\"Open In Colab\"/></a>"
      ]
    },
    {
      "cell_type": "markdown",
      "source": [
        "Classification of news into fake or real based on the authenticity  \n",
        "\n",
        "Dataset(kaggle)- https://www.kaggle.com/datasets/jillanisofttech/fake-or-real-news"
      ],
      "metadata": {
        "id": "D672frvH0FaE"
      }
    },
    {
      "cell_type": "markdown",
      "source": [
        "**Importing Libraries**"
      ],
      "metadata": {
        "id": "mm-hReMUyfZx"
      }
    },
    {
      "cell_type": "code",
      "source": [
        "import pandas as pd \n",
        "import numpy as np \n",
        "\n",
        "import warnings\n",
        "warnings.simplefilter(action='ignore')\n"
      ],
      "metadata": {
        "id": "CprE7u2Wzd8K"
      },
      "execution_count": 2,
      "outputs": []
    },
    {
      "cell_type": "markdown",
      "source": [
        "**Importing** ***data***"
      ],
      "metadata": {
        "id": "IFYEcHnD2VRw"
      }
    },
    {
      "cell_type": "code",
      "source": [
        "df = pd.read_csv('/fake_or_real_news.csv').drop(columns='Unnamed: 0')\n",
        "\n",
        "df"
      ],
      "metadata": {
        "colab": {
          "base_uri": "https://localhost:8080/",
          "height": 424
        },
        "id": "Mg_SIDdi7Hdy",
        "outputId": "ac40a825-4af5-4461-8dc9-f26714c8e932"
      },
      "execution_count": 5,
      "outputs": [
        {
          "output_type": "execute_result",
          "data": {
            "text/plain": [
              "                                                  title  \\\n",
              "0                          You Can Smell Hillary’s Fear   \n",
              "1     Watch The Exact Moment Paul Ryan Committed Pol...   \n",
              "2           Kerry to go to Paris in gesture of sympathy   \n",
              "3     Bernie supporters on Twitter erupt in anger ag...   \n",
              "4      The Battle of New York: Why This Primary Matters   \n",
              "...                                                 ...   \n",
              "6330  State Department says it can't find emails fro...   \n",
              "6331  The ‘P’ in PBS Should Stand for ‘Plutocratic’ ...   \n",
              "6332  Anti-Trump Protesters Are Tools of the Oligarc...   \n",
              "6333  In Ethiopia, Obama seeks progress on peace, se...   \n",
              "6334  Jeb Bush Is Suddenly Attacking Trump. Here's W...   \n",
              "\n",
              "                                                   text label  \n",
              "0     Daniel Greenfield, a Shillman Journalism Fello...  FAKE  \n",
              "1     Google Pinterest Digg Linkedin Reddit Stumbleu...  FAKE  \n",
              "2     U.S. Secretary of State John F. Kerry said Mon...  REAL  \n",
              "3     — Kaydee King (@KaydeeKing) November 9, 2016 T...  FAKE  \n",
              "4     It's primary day in New York and front-runners...  REAL  \n",
              "...                                                 ...   ...  \n",
              "6330  The State Department told the Republican Natio...  REAL  \n",
              "6331  The ‘P’ in PBS Should Stand for ‘Plutocratic’ ...  FAKE  \n",
              "6332   Anti-Trump Protesters Are Tools of the Oligar...  FAKE  \n",
              "6333  ADDIS ABABA, Ethiopia —President Obama convene...  REAL  \n",
              "6334  Jeb Bush Is Suddenly Attacking Trump. Here's W...  REAL  \n",
              "\n",
              "[6335 rows x 3 columns]"
            ],
            "text/html": [
              "\n",
              "  <div id=\"df-015c3094-8acd-495d-ba9f-bcc88283d59a\">\n",
              "    <div class=\"colab-df-container\">\n",
              "      <div>\n",
              "<style scoped>\n",
              "    .dataframe tbody tr th:only-of-type {\n",
              "        vertical-align: middle;\n",
              "    }\n",
              "\n",
              "    .dataframe tbody tr th {\n",
              "        vertical-align: top;\n",
              "    }\n",
              "\n",
              "    .dataframe thead th {\n",
              "        text-align: right;\n",
              "    }\n",
              "</style>\n",
              "<table border=\"1\" class=\"dataframe\">\n",
              "  <thead>\n",
              "    <tr style=\"text-align: right;\">\n",
              "      <th></th>\n",
              "      <th>title</th>\n",
              "      <th>text</th>\n",
              "      <th>label</th>\n",
              "    </tr>\n",
              "  </thead>\n",
              "  <tbody>\n",
              "    <tr>\n",
              "      <th>0</th>\n",
              "      <td>You Can Smell Hillary’s Fear</td>\n",
              "      <td>Daniel Greenfield, a Shillman Journalism Fello...</td>\n",
              "      <td>FAKE</td>\n",
              "    </tr>\n",
              "    <tr>\n",
              "      <th>1</th>\n",
              "      <td>Watch The Exact Moment Paul Ryan Committed Pol...</td>\n",
              "      <td>Google Pinterest Digg Linkedin Reddit Stumbleu...</td>\n",
              "      <td>FAKE</td>\n",
              "    </tr>\n",
              "    <tr>\n",
              "      <th>2</th>\n",
              "      <td>Kerry to go to Paris in gesture of sympathy</td>\n",
              "      <td>U.S. Secretary of State John F. Kerry said Mon...</td>\n",
              "      <td>REAL</td>\n",
              "    </tr>\n",
              "    <tr>\n",
              "      <th>3</th>\n",
              "      <td>Bernie supporters on Twitter erupt in anger ag...</td>\n",
              "      <td>— Kaydee King (@KaydeeKing) November 9, 2016 T...</td>\n",
              "      <td>FAKE</td>\n",
              "    </tr>\n",
              "    <tr>\n",
              "      <th>4</th>\n",
              "      <td>The Battle of New York: Why This Primary Matters</td>\n",
              "      <td>It's primary day in New York and front-runners...</td>\n",
              "      <td>REAL</td>\n",
              "    </tr>\n",
              "    <tr>\n",
              "      <th>...</th>\n",
              "      <td>...</td>\n",
              "      <td>...</td>\n",
              "      <td>...</td>\n",
              "    </tr>\n",
              "    <tr>\n",
              "      <th>6330</th>\n",
              "      <td>State Department says it can't find emails fro...</td>\n",
              "      <td>The State Department told the Republican Natio...</td>\n",
              "      <td>REAL</td>\n",
              "    </tr>\n",
              "    <tr>\n",
              "      <th>6331</th>\n",
              "      <td>The ‘P’ in PBS Should Stand for ‘Plutocratic’ ...</td>\n",
              "      <td>The ‘P’ in PBS Should Stand for ‘Plutocratic’ ...</td>\n",
              "      <td>FAKE</td>\n",
              "    </tr>\n",
              "    <tr>\n",
              "      <th>6332</th>\n",
              "      <td>Anti-Trump Protesters Are Tools of the Oligarc...</td>\n",
              "      <td>Anti-Trump Protesters Are Tools of the Oligar...</td>\n",
              "      <td>FAKE</td>\n",
              "    </tr>\n",
              "    <tr>\n",
              "      <th>6333</th>\n",
              "      <td>In Ethiopia, Obama seeks progress on peace, se...</td>\n",
              "      <td>ADDIS ABABA, Ethiopia —President Obama convene...</td>\n",
              "      <td>REAL</td>\n",
              "    </tr>\n",
              "    <tr>\n",
              "      <th>6334</th>\n",
              "      <td>Jeb Bush Is Suddenly Attacking Trump. Here's W...</td>\n",
              "      <td>Jeb Bush Is Suddenly Attacking Trump. Here's W...</td>\n",
              "      <td>REAL</td>\n",
              "    </tr>\n",
              "  </tbody>\n",
              "</table>\n",
              "<p>6335 rows × 3 columns</p>\n",
              "</div>\n",
              "      <button class=\"colab-df-convert\" onclick=\"convertToInteractive('df-015c3094-8acd-495d-ba9f-bcc88283d59a')\"\n",
              "              title=\"Convert this dataframe to an interactive table.\"\n",
              "              style=\"display:none;\">\n",
              "        \n",
              "  <svg xmlns=\"http://www.w3.org/2000/svg\" height=\"24px\"viewBox=\"0 0 24 24\"\n",
              "       width=\"24px\">\n",
              "    <path d=\"M0 0h24v24H0V0z\" fill=\"none\"/>\n",
              "    <path d=\"M18.56 5.44l.94 2.06.94-2.06 2.06-.94-2.06-.94-.94-2.06-.94 2.06-2.06.94zm-11 1L8.5 8.5l.94-2.06 2.06-.94-2.06-.94L8.5 2.5l-.94 2.06-2.06.94zm10 10l.94 2.06.94-2.06 2.06-.94-2.06-.94-.94-2.06-.94 2.06-2.06.94z\"/><path d=\"M17.41 7.96l-1.37-1.37c-.4-.4-.92-.59-1.43-.59-.52 0-1.04.2-1.43.59L10.3 9.45l-7.72 7.72c-.78.78-.78 2.05 0 2.83L4 21.41c.39.39.9.59 1.41.59.51 0 1.02-.2 1.41-.59l7.78-7.78 2.81-2.81c.8-.78.8-2.07 0-2.86zM5.41 20L4 18.59l7.72-7.72 1.47 1.35L5.41 20z\"/>\n",
              "  </svg>\n",
              "      </button>\n",
              "      \n",
              "  <style>\n",
              "    .colab-df-container {\n",
              "      display:flex;\n",
              "      flex-wrap:wrap;\n",
              "      gap: 12px;\n",
              "    }\n",
              "\n",
              "    .colab-df-convert {\n",
              "      background-color: #E8F0FE;\n",
              "      border: none;\n",
              "      border-radius: 50%;\n",
              "      cursor: pointer;\n",
              "      display: none;\n",
              "      fill: #1967D2;\n",
              "      height: 32px;\n",
              "      padding: 0 0 0 0;\n",
              "      width: 32px;\n",
              "    }\n",
              "\n",
              "    .colab-df-convert:hover {\n",
              "      background-color: #E2EBFA;\n",
              "      box-shadow: 0px 1px 2px rgba(60, 64, 67, 0.3), 0px 1px 3px 1px rgba(60, 64, 67, 0.15);\n",
              "      fill: #174EA6;\n",
              "    }\n",
              "\n",
              "    [theme=dark] .colab-df-convert {\n",
              "      background-color: #3B4455;\n",
              "      fill: #D2E3FC;\n",
              "    }\n",
              "\n",
              "    [theme=dark] .colab-df-convert:hover {\n",
              "      background-color: #434B5C;\n",
              "      box-shadow: 0px 1px 3px 1px rgba(0, 0, 0, 0.15);\n",
              "      filter: drop-shadow(0px 1px 2px rgba(0, 0, 0, 0.3));\n",
              "      fill: #FFFFFF;\n",
              "    }\n",
              "  </style>\n",
              "\n",
              "      <script>\n",
              "        const buttonEl =\n",
              "          document.querySelector('#df-015c3094-8acd-495d-ba9f-bcc88283d59a button.colab-df-convert');\n",
              "        buttonEl.style.display =\n",
              "          google.colab.kernel.accessAllowed ? 'block' : 'none';\n",
              "\n",
              "        async function convertToInteractive(key) {\n",
              "          const element = document.querySelector('#df-015c3094-8acd-495d-ba9f-bcc88283d59a');\n",
              "          const dataTable =\n",
              "            await google.colab.kernel.invokeFunction('convertToInteractive',\n",
              "                                                     [key], {});\n",
              "          if (!dataTable) return;\n",
              "\n",
              "          const docLinkHtml = 'Like what you see? Visit the ' +\n",
              "            '<a target=\"_blank\" href=https://colab.research.google.com/notebooks/data_table.ipynb>data table notebook</a>'\n",
              "            + ' to learn more about interactive tables.';\n",
              "          element.innerHTML = '';\n",
              "          dataTable['output_type'] = 'display_data';\n",
              "          await google.colab.output.renderOutput(dataTable, element);\n",
              "          const docLink = document.createElement('div');\n",
              "          docLink.innerHTML = docLinkHtml;\n",
              "          element.appendChild(docLink);\n",
              "        }\n",
              "      </script>\n",
              "    </div>\n",
              "  </div>\n",
              "  "
            ]
          },
          "metadata": {},
          "execution_count": 5
        }
      ]
    },
    {
      "cell_type": "markdown",
      "source": [
        "**Feature Engineering**\n",
        "\n",
        "**Labeling each text**\n",
        "\n",
        "**Changing the label into 0 and 1 where:**\n",
        "\n",
        "**0** denotes real news \n",
        "\n",
        "**1** denotes fake news "
      ],
      "metadata": {
        "id": "Sa9qHKIl9Vd0"
      }
    },
    {
      "cell_type": "code",
      "source": [
        "df['label'] = df.label.map({'FAKE':1, 'REAL':0}) \n",
        "\n",
        "df"
      ],
      "metadata": {
        "colab": {
          "base_uri": "https://localhost:8080/",
          "height": 424
        },
        "id": "epWHc1Tz91TK",
        "outputId": "80317058-f4ad-4d85-b46e-6dde2ebd1d04"
      },
      "execution_count": 6,
      "outputs": [
        {
          "output_type": "execute_result",
          "data": {
            "text/plain": [
              "                                                  title  \\\n",
              "0                          You Can Smell Hillary’s Fear   \n",
              "1     Watch The Exact Moment Paul Ryan Committed Pol...   \n",
              "2           Kerry to go to Paris in gesture of sympathy   \n",
              "3     Bernie supporters on Twitter erupt in anger ag...   \n",
              "4      The Battle of New York: Why This Primary Matters   \n",
              "...                                                 ...   \n",
              "6330  State Department says it can't find emails fro...   \n",
              "6331  The ‘P’ in PBS Should Stand for ‘Plutocratic’ ...   \n",
              "6332  Anti-Trump Protesters Are Tools of the Oligarc...   \n",
              "6333  In Ethiopia, Obama seeks progress on peace, se...   \n",
              "6334  Jeb Bush Is Suddenly Attacking Trump. Here's W...   \n",
              "\n",
              "                                                   text  label  \n",
              "0     Daniel Greenfield, a Shillman Journalism Fello...      1  \n",
              "1     Google Pinterest Digg Linkedin Reddit Stumbleu...      1  \n",
              "2     U.S. Secretary of State John F. Kerry said Mon...      0  \n",
              "3     — Kaydee King (@KaydeeKing) November 9, 2016 T...      1  \n",
              "4     It's primary day in New York and front-runners...      0  \n",
              "...                                                 ...    ...  \n",
              "6330  The State Department told the Republican Natio...      0  \n",
              "6331  The ‘P’ in PBS Should Stand for ‘Plutocratic’ ...      1  \n",
              "6332   Anti-Trump Protesters Are Tools of the Oligar...      1  \n",
              "6333  ADDIS ABABA, Ethiopia —President Obama convene...      0  \n",
              "6334  Jeb Bush Is Suddenly Attacking Trump. Here's W...      0  \n",
              "\n",
              "[6335 rows x 3 columns]"
            ],
            "text/html": [
              "\n",
              "  <div id=\"df-f363320d-9db6-4219-9d9b-d4981538ec7c\">\n",
              "    <div class=\"colab-df-container\">\n",
              "      <div>\n",
              "<style scoped>\n",
              "    .dataframe tbody tr th:only-of-type {\n",
              "        vertical-align: middle;\n",
              "    }\n",
              "\n",
              "    .dataframe tbody tr th {\n",
              "        vertical-align: top;\n",
              "    }\n",
              "\n",
              "    .dataframe thead th {\n",
              "        text-align: right;\n",
              "    }\n",
              "</style>\n",
              "<table border=\"1\" class=\"dataframe\">\n",
              "  <thead>\n",
              "    <tr style=\"text-align: right;\">\n",
              "      <th></th>\n",
              "      <th>title</th>\n",
              "      <th>text</th>\n",
              "      <th>label</th>\n",
              "    </tr>\n",
              "  </thead>\n",
              "  <tbody>\n",
              "    <tr>\n",
              "      <th>0</th>\n",
              "      <td>You Can Smell Hillary’s Fear</td>\n",
              "      <td>Daniel Greenfield, a Shillman Journalism Fello...</td>\n",
              "      <td>1</td>\n",
              "    </tr>\n",
              "    <tr>\n",
              "      <th>1</th>\n",
              "      <td>Watch The Exact Moment Paul Ryan Committed Pol...</td>\n",
              "      <td>Google Pinterest Digg Linkedin Reddit Stumbleu...</td>\n",
              "      <td>1</td>\n",
              "    </tr>\n",
              "    <tr>\n",
              "      <th>2</th>\n",
              "      <td>Kerry to go to Paris in gesture of sympathy</td>\n",
              "      <td>U.S. Secretary of State John F. Kerry said Mon...</td>\n",
              "      <td>0</td>\n",
              "    </tr>\n",
              "    <tr>\n",
              "      <th>3</th>\n",
              "      <td>Bernie supporters on Twitter erupt in anger ag...</td>\n",
              "      <td>— Kaydee King (@KaydeeKing) November 9, 2016 T...</td>\n",
              "      <td>1</td>\n",
              "    </tr>\n",
              "    <tr>\n",
              "      <th>4</th>\n",
              "      <td>The Battle of New York: Why This Primary Matters</td>\n",
              "      <td>It's primary day in New York and front-runners...</td>\n",
              "      <td>0</td>\n",
              "    </tr>\n",
              "    <tr>\n",
              "      <th>...</th>\n",
              "      <td>...</td>\n",
              "      <td>...</td>\n",
              "      <td>...</td>\n",
              "    </tr>\n",
              "    <tr>\n",
              "      <th>6330</th>\n",
              "      <td>State Department says it can't find emails fro...</td>\n",
              "      <td>The State Department told the Republican Natio...</td>\n",
              "      <td>0</td>\n",
              "    </tr>\n",
              "    <tr>\n",
              "      <th>6331</th>\n",
              "      <td>The ‘P’ in PBS Should Stand for ‘Plutocratic’ ...</td>\n",
              "      <td>The ‘P’ in PBS Should Stand for ‘Plutocratic’ ...</td>\n",
              "      <td>1</td>\n",
              "    </tr>\n",
              "    <tr>\n",
              "      <th>6332</th>\n",
              "      <td>Anti-Trump Protesters Are Tools of the Oligarc...</td>\n",
              "      <td>Anti-Trump Protesters Are Tools of the Oligar...</td>\n",
              "      <td>1</td>\n",
              "    </tr>\n",
              "    <tr>\n",
              "      <th>6333</th>\n",
              "      <td>In Ethiopia, Obama seeks progress on peace, se...</td>\n",
              "      <td>ADDIS ABABA, Ethiopia —President Obama convene...</td>\n",
              "      <td>0</td>\n",
              "    </tr>\n",
              "    <tr>\n",
              "      <th>6334</th>\n",
              "      <td>Jeb Bush Is Suddenly Attacking Trump. Here's W...</td>\n",
              "      <td>Jeb Bush Is Suddenly Attacking Trump. Here's W...</td>\n",
              "      <td>0</td>\n",
              "    </tr>\n",
              "  </tbody>\n",
              "</table>\n",
              "<p>6335 rows × 3 columns</p>\n",
              "</div>\n",
              "      <button class=\"colab-df-convert\" onclick=\"convertToInteractive('df-f363320d-9db6-4219-9d9b-d4981538ec7c')\"\n",
              "              title=\"Convert this dataframe to an interactive table.\"\n",
              "              style=\"display:none;\">\n",
              "        \n",
              "  <svg xmlns=\"http://www.w3.org/2000/svg\" height=\"24px\"viewBox=\"0 0 24 24\"\n",
              "       width=\"24px\">\n",
              "    <path d=\"M0 0h24v24H0V0z\" fill=\"none\"/>\n",
              "    <path d=\"M18.56 5.44l.94 2.06.94-2.06 2.06-.94-2.06-.94-.94-2.06-.94 2.06-2.06.94zm-11 1L8.5 8.5l.94-2.06 2.06-.94-2.06-.94L8.5 2.5l-.94 2.06-2.06.94zm10 10l.94 2.06.94-2.06 2.06-.94-2.06-.94-.94-2.06-.94 2.06-2.06.94z\"/><path d=\"M17.41 7.96l-1.37-1.37c-.4-.4-.92-.59-1.43-.59-.52 0-1.04.2-1.43.59L10.3 9.45l-7.72 7.72c-.78.78-.78 2.05 0 2.83L4 21.41c.39.39.9.59 1.41.59.51 0 1.02-.2 1.41-.59l7.78-7.78 2.81-2.81c.8-.78.8-2.07 0-2.86zM5.41 20L4 18.59l7.72-7.72 1.47 1.35L5.41 20z\"/>\n",
              "  </svg>\n",
              "      </button>\n",
              "      \n",
              "  <style>\n",
              "    .colab-df-container {\n",
              "      display:flex;\n",
              "      flex-wrap:wrap;\n",
              "      gap: 12px;\n",
              "    }\n",
              "\n",
              "    .colab-df-convert {\n",
              "      background-color: #E8F0FE;\n",
              "      border: none;\n",
              "      border-radius: 50%;\n",
              "      cursor: pointer;\n",
              "      display: none;\n",
              "      fill: #1967D2;\n",
              "      height: 32px;\n",
              "      padding: 0 0 0 0;\n",
              "      width: 32px;\n",
              "    }\n",
              "\n",
              "    .colab-df-convert:hover {\n",
              "      background-color: #E2EBFA;\n",
              "      box-shadow: 0px 1px 2px rgba(60, 64, 67, 0.3), 0px 1px 3px 1px rgba(60, 64, 67, 0.15);\n",
              "      fill: #174EA6;\n",
              "    }\n",
              "\n",
              "    [theme=dark] .colab-df-convert {\n",
              "      background-color: #3B4455;\n",
              "      fill: #D2E3FC;\n",
              "    }\n",
              "\n",
              "    [theme=dark] .colab-df-convert:hover {\n",
              "      background-color: #434B5C;\n",
              "      box-shadow: 0px 1px 3px 1px rgba(0, 0, 0, 0.15);\n",
              "      filter: drop-shadow(0px 1px 2px rgba(0, 0, 0, 0.3));\n",
              "      fill: #FFFFFF;\n",
              "    }\n",
              "  </style>\n",
              "\n",
              "      <script>\n",
              "        const buttonEl =\n",
              "          document.querySelector('#df-f363320d-9db6-4219-9d9b-d4981538ec7c button.colab-df-convert');\n",
              "        buttonEl.style.display =\n",
              "          google.colab.kernel.accessAllowed ? 'block' : 'none';\n",
              "\n",
              "        async function convertToInteractive(key) {\n",
              "          const element = document.querySelector('#df-f363320d-9db6-4219-9d9b-d4981538ec7c');\n",
              "          const dataTable =\n",
              "            await google.colab.kernel.invokeFunction('convertToInteractive',\n",
              "                                                     [key], {});\n",
              "          if (!dataTable) return;\n",
              "\n",
              "          const docLinkHtml = 'Like what you see? Visit the ' +\n",
              "            '<a target=\"_blank\" href=https://colab.research.google.com/notebooks/data_table.ipynb>data table notebook</a>'\n",
              "            + ' to learn more about interactive tables.';\n",
              "          element.innerHTML = '';\n",
              "          dataTable['output_type'] = 'display_data';\n",
              "          await google.colab.output.renderOutput(dataTable, element);\n",
              "          const docLink = document.createElement('div');\n",
              "          docLink.innerHTML = docLinkHtml;\n",
              "          element.appendChild(docLink);\n",
              "        }\n",
              "      </script>\n",
              "    </div>\n",
              "  </div>\n",
              "  "
            ]
          },
          "metadata": {},
          "execution_count": 6
        }
      ]
    },
    {
      "cell_type": "code",
      "source": [
        "df.loc[5432, 'text']"
      ],
      "metadata": {
        "colab": {
          "base_uri": "https://localhost:8080/",
          "height": 573
        },
        "id": "c9VU6lmC-NWU",
        "outputId": "a0d026be-4fc0-4e5d-e3fb-d51941876a6e"
      },
      "execution_count": 8,
      "outputs": [
        {
          "output_type": "execute_result",
          "data": {
            "text/plain": [
              "'Joe Biden doesn\\'t sound like a man who\\'s preparing for a grueling presidential campaign.\\n\\nThe vice president\\'s latest remarks on a potential 2016 bid came Thursday night, questioning whether he has the \"emotional energy\" to run so soon after his eldest son, Beau, died from brain cancer in May.\\n\\nFor all the chatter and predictions of the past month that Biden was eagerly readying a run, the vice president has put forth a different face when he has spoken about a campaign. And it\\'s one of a grieving father, a not-yet-healed family and someone who certainly doesn\\'t sound mentally prepared for the emotional rigors of the campaign trail.\\n\\n\"I will be straightforward with you. The most relevant factor in my decision is whether my family and I have the emotional energy to run,\" Biden said in Atlanta, where he was speaking on the Iran nuclear deal. He was asked after his remarks about his intentions for a possible campaign. \"Some might think that is not appropriate. But unless I can go to my party and the American people and say that I am able to devote my whole heart and my whole soul to this endeavor, it would not be appropriate.\"\\n\\nBiden, 72, said there were other concerns, too — whether he can ramp up a competitive organization with such a late start, wooing donors and staff and building infrastructure in early states. But those weren\\'t driving his decision.\\n\\n\"That\\'s not the factor,\" a visibly drained Biden told the crowd in a Georgia synagogue. \"The factor is: Can I do it? Can my family undertake what is an arduous commitment that we\\'d be proud to undertake in ordinary circumstances? The honest-to-God answer is I just don\\'t know.\"\\n\\nBiden is no stranger to tragedy, and he has soldiered on in the face of it before. Shortly after his election to the Senate in 1972, his wife and daughter were killed in a car accident and his two sons — Beau and Hunter — were badly injured. He had to be convinced to even take the oath of office, and he did, in the hospital beside his children.\\n\\nThe vice president referenced that first deep loss on Thursday night, but said he had learned \"there\\'s no way to put a timetable on\" recovery from the scars.\\n\\n\"If I can reach that conclusion that we can do it in a fashion that would still make it viable, I would not hesitate to do it,\" Biden continued. \"But I have to be honest with you, and everyone who\\'s come to me, I can\\'t look you straight in the eye and say, \\'Now I know I can do that.\\' That\\'s as honest as I can be.\"\\n\\nThis was an even more honest and raw assessment than Democratic insiders heard last week from Biden. On a closed conference call with the Democratic National Committee to sell the Iran deal, Biden again opened up about his presidential decision-making — and didn\\'t sound any closer to pulling the trigger.\\n\\n\"If I were to announce to run,\" Biden said, \"I have to be able to commit to all of you that I would be able to give it my whole heart and my whole soul, and right now, both are pretty well banged up. ... I\\'ve given this a lot of thought and dealing internally with the family on how we do this.\"\\n\\nMultiple reports have said that Beau encouraged him to run before he died, and while the idea of a presidential campaign at that point may have seemed feasible, it\\'s clear the elder Biden is still not ready — and there\\'s no sign when he will be.\\n\\nUnfortunately for the vice president, the clock is ticking. He initially said he would make an announcement by the end of the summer. The unofficial end is this Monday on Labor Day, but technically by that deadline he has until Sept. 22.\\n\\nBut it\\'s actual deadlines that are important instead of symbolic ones. The first Democratic debate on Oct. 13 is on the horizon, and filing deadlines are approaching. It may be true that Hillary Clinton has stumbled, but it\\'s insurgent Vermont Sen. Bernie Sanders, not Biden, who\\'s been the beneficiary of those foibles.\\n\\nOnly someone with the name identification and built-in political advantages like Biden\\'s could even make such a late play, and if he did pull the trigger, he would be a formidable candidate. He\\'s the last wild card on either side before the 2016 field is crystallized. And a superPAC backing him, Draft Biden, has staffed up in recent weeks with notable hires and close Biden allies.\\n\\nBiden may give a more direct answer next week, when he will appear on one of Stephen Colbert\\'s first Late Show episodes on CBS. The more relaxed, comedy setting may be one where Biden feels more comfortable and more free to be frank.\\n\\nBut Biden has already been pretty transparent already — and all signs so far point to him not getting in.'"
            ],
            "application/vnd.google.colaboratory.intrinsic+json": {
              "type": "string"
            }
          },
          "metadata": {},
          "execution_count": 8
        }
      ]
    },
    {
      "cell_type": "code",
      "source": [
        "df.loc[2345, 'text']"
      ],
      "metadata": {
        "colab": {
          "base_uri": "https://localhost:8080/",
          "height": 139
        },
        "id": "B1INW43A-kIk",
        "outputId": "831151ad-0b6b-427e-d030-fe82dc4bb119"
      },
      "execution_count": 9,
      "outputs": [
        {
          "output_type": "execute_result",
          "data": {
            "text/plain": [
              "'Islamic State suicide bombers brought terror, chaos and bloodshed to the city at the heart of European unity on \\xadTuesday, detonating their nail-spewing bombs at an airport \\xaddepartures hall and on a subway train in attacks that left at least 31 people dead and prompted authorities to launch an intensive manhunt for at least one suspected accomplice.\\n\\nThe wanted man accompanied two of the bombers to the airport, along with luggage heaving with explosives. Authorities were also hunting for a suspected Belgian bombmaker who trained in Syria with the Islamic State and later sneaked back into Europe. On Wednesday, Belgian state broadcaster RTBF identified two of the attackers who targeted Brussels as brothers Khalid and Brahim Bakraoui.\\n\\nTuesday’s mass killings add this city to an ignominious but growing list of European capitals that have been struck in the past year by deadly attacks either perpetrated or inspired by the Islamic State, including Paris and Copenhagen.\\n\\nAuthorities had been bracing for an attack in Belgium for months as the country has struggled to stem a tide of homegrown extremism and as the Islamic State has repeatedly threatened to hit Europe in its core.\\n\\nBut when the attacks finally came, the magnitude was stunning. The day’s violence represented the worst on Belgian soil since World War II.\\n\\n“What we had feared has happened,” said Belgian Prime Minister Charles Michel. “This is a black moment for our country.”\\n\\n[‘People who died weren’t whole anymore. They were in pieces.’]\\n\\nThe apparently coordinated explosions created a renewed sense of threat that spilled far beyond Brussels, as authorities boosted police patrols in cities such as Paris, London and Washington.\\n\\nThe targets appeared to have been chosen for their symbolic value and for their ease of access.\\n\\nThe attackers first struck\\n\\n with twin bombings at the international airport, where early-\\n\\nmorning travelers were preparing to board flights linking Brussels to cities across the continent and around the world. An hour later, a subway car transiting beneath the modernist glass-and-steel high-rises that house the European Union burst with smoke and flame.\\n\\nIn addition to the dead, about 250 people were injured, Belgian officials said.\\n\\nMany of the injured lost limbs as shrapnel from the blasts radiated through packed crowds. Cellphone video recorded in the minutes after the airport blasts showed children cowering on a bloody floor amid the maimed and the dead. Footage from a subway station revealed desperate scenes as people dressed for a day’s work stumbled from the mangled wreckage into a smoke-drenched tunnel.\\n\\nAuthorities acknowledged that they had been readying for an attack. But nothing like this, they said.\\n\\n“We never could have imagined something of this scale,” Interior Minister Jan Jambon told Belgian television station RTL.\\n\\nAnd even as the country tried to recover from the trauma of Tuesday’s strikes, there was evidence that more could be on the way.\\n\\n[How the Brussels attacks could force Obama to betray his policy instincts]\\n\\nThe man being sought by police accompanied two of the bombers to the airport, according to a senior Belgian official who spoke on the condition of anonymity to discuss sensitive details of the case. The taxi driver who transported them said they were hauling particularly heavy luggage that investigators believe was packed with explosives.\\n\\nAt an apartment in the Schaerbeek area of Brussels, investigators later found explosive devices loaded with nails and chemicals, along with an Islamic State flag, the Belgian federal prosecutor’s office said in a statement.\\n\\n“It was exactly the same type of bomb as at the airport,” the senior official said.\\n\\nBelgian police released surveillance images of three men pushing luggage carts at Brussels Airport. The prosecutor’s office said two of them — dressed in black with black gloves on their left hands, probably to conceal detonators — had blown themselves up. But the third, dressed in white, was on the loose. His identity was unknown, and despite a nationwide hunt — with heavily armed officers combing the streets and checkpoints at Belgian borders snarling traffic for miles — the suspect remained at large Tuesday night.\\n\\nAcross the continent, authorities were also hunting 24-year-old Najim Laachraoui, a suspected Islamic State bombmaker, according to two European security officials.\\n\\nLaachraoui, a Belgian who was born in Morocco and raised in the Schaerbeek neighborhood, is believed to have trained in Syria and then returned to Europe. His DNA was found on one of the explosives belts from November’s Paris attacks, and he is thought to have traveled at one point with Salah Abdeslam, the only surviving suspect believed to have played a direct role in the Paris massacre.\\n\\nTuesday’s attacks came only four days after Belgian counterterrorism authorities cheered the arrest of Abdeslam, 26, who was the most wanted man in Europe for the past four months. Abdeslam was discovered hiding in a Brussels apartment building in the Molenbeek neighborhood, near the center of the city. After the raid, officials said they had uncovered a web of suspects much broader than they previously imagined.\\n\\nWithin hours of Tuesday’s assault, the Islamic State asserted responsibility for the attacks, according to a statement posted on the Amaq Agency, a website believed to be close to the extremist group. The message said Belgium was targeted because of its participation in an international coalition battling the group in Syria and Iraq. U.S. and European security officials said they believed the claim to be credible.\\n\\nThe latest bloodshed made clear that European capitals remain perilously vulnerable despite attempts to dismantle the militant network that perpetrated the worst terrorist attack in Paris in generations last November.\\n\\nIn Washington, State Department spokesman John Kirby said U.S. citizens were among the injured, but he would not say how many. No Americans are known to have died in the attacks, although that information may change, he said. The State Department also issued an alert on traveling in Europe, urging Americans to avoid crowded places and to exercise caution during religious holidays and at large festivals or events.\\n\\nEurope has struggled mightily with spillover from the churning conflict in Syria. Thousands of European citizens have traveled there to fight in a war that has become a focal point for jihadists around the world. Many have returned to Europe radicalized. Europe has vowed to confront them.\\n\\n[Why is Brussels under attack?]\\n\\n“We are at war,” said French Prime Minister Manuel Valls. “We have been subjected for the last few months in Europe to acts of war.”\\n\\nIn Havana, at the end of a landmark trip, President Obama urged “the world to unite” to fight terrorism, and he pledged to “do whatever is necessary” to aid the investigation in Belgium.\\n\\nThe assaults brought Brussels to a virtual standstill. The subway and the airport were closed — the latter will remain so on Wednesday — and Belgian leaders warned residents to stay indoors. Foreign governments, including Britain, issued advisories warning against travel to the Belgian capital.\\n\\nIn France — where 130 people died Nov. 13 in attacks on a stadium, a music club and restaurants — Interior Minister Bernard Cazeneuve said that an additional 1,600 police officers were deployed and that security was boosted at border posts and major transportation hubs.\\n\\nOn social media, an image soon appeared: a figure draped in the colors of the French flag embracing another tearful figure in the black, yellow and red of Belgium’s banner.\\n\\nAt a news conference in Jordan, the E.U.’s foreign policy chief, Federica Mogherini, choked back tears after learning of the Brussels attacks.\\n\\nBelgium, a nation riven by ethnic rivalries among French, Dutch and German speakers, has struggled to address radicalization in its cities. A complex patchwork of security and police agencies is responsible for keeping an eye on potential threats. Many of them view one another as rivals rather than as colleagues.\\n\\nStill, security analysts said attacks on unsecured, high-traffic targets such as subway stations are extremely hard to defend against — even when authorities are focused on foiling such plots.\\n\\n“This is a kind of scenario every capital in Europe feared since the November attacks last year. A mixture of foreign fighters coming back with experience, local sympathizers on the other hand,” said Rik Coolsaet, a terrorism expert at Ghent University who has advised the Belgian government on how to fight radicalization. “You have such a large number of soft targets, and you cannot secure all of them.”\\n\\nBirnbaum reported from Moscow. James McAuley and Anthony Faiola in Brussels, Daniela Deane and Karla Adam in London, and Brian Murphy, Carol Morello and Matt Zapotosky in Washington contributed to this report.\\n\\nLive updates on the death toll, attack scenes and reactions around the world\\n\\nWhy is Brussels under attack?\\n\\nAt NATO headquarters, alert status raised just miles from attacks\\n\\nToday’s coverage from Post correspondents around the world'"
            ],
            "application/vnd.google.colaboratory.intrinsic+json": {
              "type": "string"
            }
          },
          "metadata": {},
          "execution_count": 9
        }
      ]
    },
    {
      "cell_type": "code",
      "source": [
        "news= [\n",
        "    df.loc[5432, 'text'], df.loc[2345, 'text']\n",
        "    ]"
      ],
      "metadata": {
        "id": "eQyUe8mv_cUm"
      },
      "execution_count": 10,
      "outputs": []
    },
    {
      "cell_type": "code",
      "source": [
        "news"
      ],
      "metadata": {
        "colab": {
          "base_uri": "https://localhost:8080/"
        },
        "id": "nnIChJ2JCPgj",
        "outputId": "d38f3ead-98ea-495e-be48-759f660053a1"
      },
      "execution_count": 11,
      "outputs": [
        {
          "output_type": "execute_result",
          "data": {
            "text/plain": [
              "['Joe Biden doesn\\'t sound like a man who\\'s preparing for a grueling presidential campaign.\\n\\nThe vice president\\'s latest remarks on a potential 2016 bid came Thursday night, questioning whether he has the \"emotional energy\" to run so soon after his eldest son, Beau, died from brain cancer in May.\\n\\nFor all the chatter and predictions of the past month that Biden was eagerly readying a run, the vice president has put forth a different face when he has spoken about a campaign. And it\\'s one of a grieving father, a not-yet-healed family and someone who certainly doesn\\'t sound mentally prepared for the emotional rigors of the campaign trail.\\n\\n\"I will be straightforward with you. The most relevant factor in my decision is whether my family and I have the emotional energy to run,\" Biden said in Atlanta, where he was speaking on the Iran nuclear deal. He was asked after his remarks about his intentions for a possible campaign. \"Some might think that is not appropriate. But unless I can go to my party and the American people and say that I am able to devote my whole heart and my whole soul to this endeavor, it would not be appropriate.\"\\n\\nBiden, 72, said there were other concerns, too — whether he can ramp up a competitive organization with such a late start, wooing donors and staff and building infrastructure in early states. But those weren\\'t driving his decision.\\n\\n\"That\\'s not the factor,\" a visibly drained Biden told the crowd in a Georgia synagogue. \"The factor is: Can I do it? Can my family undertake what is an arduous commitment that we\\'d be proud to undertake in ordinary circumstances? The honest-to-God answer is I just don\\'t know.\"\\n\\nBiden is no stranger to tragedy, and he has soldiered on in the face of it before. Shortly after his election to the Senate in 1972, his wife and daughter were killed in a car accident and his two sons — Beau and Hunter — were badly injured. He had to be convinced to even take the oath of office, and he did, in the hospital beside his children.\\n\\nThe vice president referenced that first deep loss on Thursday night, but said he had learned \"there\\'s no way to put a timetable on\" recovery from the scars.\\n\\n\"If I can reach that conclusion that we can do it in a fashion that would still make it viable, I would not hesitate to do it,\" Biden continued. \"But I have to be honest with you, and everyone who\\'s come to me, I can\\'t look you straight in the eye and say, \\'Now I know I can do that.\\' That\\'s as honest as I can be.\"\\n\\nThis was an even more honest and raw assessment than Democratic insiders heard last week from Biden. On a closed conference call with the Democratic National Committee to sell the Iran deal, Biden again opened up about his presidential decision-making — and didn\\'t sound any closer to pulling the trigger.\\n\\n\"If I were to announce to run,\" Biden said, \"I have to be able to commit to all of you that I would be able to give it my whole heart and my whole soul, and right now, both are pretty well banged up. ... I\\'ve given this a lot of thought and dealing internally with the family on how we do this.\"\\n\\nMultiple reports have said that Beau encouraged him to run before he died, and while the idea of a presidential campaign at that point may have seemed feasible, it\\'s clear the elder Biden is still not ready — and there\\'s no sign when he will be.\\n\\nUnfortunately for the vice president, the clock is ticking. He initially said he would make an announcement by the end of the summer. The unofficial end is this Monday on Labor Day, but technically by that deadline he has until Sept. 22.\\n\\nBut it\\'s actual deadlines that are important instead of symbolic ones. The first Democratic debate on Oct. 13 is on the horizon, and filing deadlines are approaching. It may be true that Hillary Clinton has stumbled, but it\\'s insurgent Vermont Sen. Bernie Sanders, not Biden, who\\'s been the beneficiary of those foibles.\\n\\nOnly someone with the name identification and built-in political advantages like Biden\\'s could even make such a late play, and if he did pull the trigger, he would be a formidable candidate. He\\'s the last wild card on either side before the 2016 field is crystallized. And a superPAC backing him, Draft Biden, has staffed up in recent weeks with notable hires and close Biden allies.\\n\\nBiden may give a more direct answer next week, when he will appear on one of Stephen Colbert\\'s first Late Show episodes on CBS. The more relaxed, comedy setting may be one where Biden feels more comfortable and more free to be frank.\\n\\nBut Biden has already been pretty transparent already — and all signs so far point to him not getting in.',\n",
              " 'Islamic State suicide bombers brought terror, chaos and bloodshed to the city at the heart of European unity on \\xadTuesday, detonating their nail-spewing bombs at an airport \\xaddepartures hall and on a subway train in attacks that left at least 31 people dead and prompted authorities to launch an intensive manhunt for at least one suspected accomplice.\\n\\nThe wanted man accompanied two of the bombers to the airport, along with luggage heaving with explosives. Authorities were also hunting for a suspected Belgian bombmaker who trained in Syria with the Islamic State and later sneaked back into Europe. On Wednesday, Belgian state broadcaster RTBF identified two of the attackers who targeted Brussels as brothers Khalid and Brahim Bakraoui.\\n\\nTuesday’s mass killings add this city to an ignominious but growing list of European capitals that have been struck in the past year by deadly attacks either perpetrated or inspired by the Islamic State, including Paris and Copenhagen.\\n\\nAuthorities had been bracing for an attack in Belgium for months as the country has struggled to stem a tide of homegrown extremism and as the Islamic State has repeatedly threatened to hit Europe in its core.\\n\\nBut when the attacks finally came, the magnitude was stunning. The day’s violence represented the worst on Belgian soil since World War II.\\n\\n“What we had feared has happened,” said Belgian Prime Minister Charles Michel. “This is a black moment for our country.”\\n\\n[‘People who died weren’t whole anymore. They were in pieces.’]\\n\\nThe apparently coordinated explosions created a renewed sense of threat that spilled far beyond Brussels, as authorities boosted police patrols in cities such as Paris, London and Washington.\\n\\nThe targets appeared to have been chosen for their symbolic value and for their ease of access.\\n\\nThe attackers first struck\\n\\n with twin bombings at the international airport, where early-\\n\\nmorning travelers were preparing to board flights linking Brussels to cities across the continent and around the world. An hour later, a subway car transiting beneath the modernist glass-and-steel high-rises that house the European Union burst with smoke and flame.\\n\\nIn addition to the dead, about 250 people were injured, Belgian officials said.\\n\\nMany of the injured lost limbs as shrapnel from the blasts radiated through packed crowds. Cellphone video recorded in the minutes after the airport blasts showed children cowering on a bloody floor amid the maimed and the dead. Footage from a subway station revealed desperate scenes as people dressed for a day’s work stumbled from the mangled wreckage into a smoke-drenched tunnel.\\n\\nAuthorities acknowledged that they had been readying for an attack. But nothing like this, they said.\\n\\n“We never could have imagined something of this scale,” Interior Minister Jan Jambon told Belgian television station RTL.\\n\\nAnd even as the country tried to recover from the trauma of Tuesday’s strikes, there was evidence that more could be on the way.\\n\\n[How the Brussels attacks could force Obama to betray his policy instincts]\\n\\nThe man being sought by police accompanied two of the bombers to the airport, according to a senior Belgian official who spoke on the condition of anonymity to discuss sensitive details of the case. The taxi driver who transported them said they were hauling particularly heavy luggage that investigators believe was packed with explosives.\\n\\nAt an apartment in the Schaerbeek area of Brussels, investigators later found explosive devices loaded with nails and chemicals, along with an Islamic State flag, the Belgian federal prosecutor’s office said in a statement.\\n\\n“It was exactly the same type of bomb as at the airport,” the senior official said.\\n\\nBelgian police released surveillance images of three men pushing luggage carts at Brussels Airport. The prosecutor’s office said two of them — dressed in black with black gloves on their left hands, probably to conceal detonators — had blown themselves up. But the third, dressed in white, was on the loose. His identity was unknown, and despite a nationwide hunt — with heavily armed officers combing the streets and checkpoints at Belgian borders snarling traffic for miles — the suspect remained at large Tuesday night.\\n\\nAcross the continent, authorities were also hunting 24-year-old Najim Laachraoui, a suspected Islamic State bombmaker, according to two European security officials.\\n\\nLaachraoui, a Belgian who was born in Morocco and raised in the Schaerbeek neighborhood, is believed to have trained in Syria and then returned to Europe. His DNA was found on one of the explosives belts from November’s Paris attacks, and he is thought to have traveled at one point with Salah Abdeslam, the only surviving suspect believed to have played a direct role in the Paris massacre.\\n\\nTuesday’s attacks came only four days after Belgian counterterrorism authorities cheered the arrest of Abdeslam, 26, who was the most wanted man in Europe for the past four months. Abdeslam was discovered hiding in a Brussels apartment building in the Molenbeek neighborhood, near the center of the city. After the raid, officials said they had uncovered a web of suspects much broader than they previously imagined.\\n\\nWithin hours of Tuesday’s assault, the Islamic State asserted responsibility for the attacks, according to a statement posted on the Amaq Agency, a website believed to be close to the extremist group. The message said Belgium was targeted because of its participation in an international coalition battling the group in Syria and Iraq. U.S. and European security officials said they believed the claim to be credible.\\n\\nThe latest bloodshed made clear that European capitals remain perilously vulnerable despite attempts to dismantle the militant network that perpetrated the worst terrorist attack in Paris in generations last November.\\n\\nIn Washington, State Department spokesman John Kirby said U.S. citizens were among the injured, but he would not say how many. No Americans are known to have died in the attacks, although that information may change, he said. The State Department also issued an alert on traveling in Europe, urging Americans to avoid crowded places and to exercise caution during religious holidays and at large festivals or events.\\n\\nEurope has struggled mightily with spillover from the churning conflict in Syria. Thousands of European citizens have traveled there to fight in a war that has become a focal point for jihadists around the world. Many have returned to Europe radicalized. Europe has vowed to confront them.\\n\\n[Why is Brussels under attack?]\\n\\n“We are at war,” said French Prime Minister Manuel Valls. “We have been subjected for the last few months in Europe to acts of war.”\\n\\nIn Havana, at the end of a landmark trip, President Obama urged “the world to unite” to fight terrorism, and he pledged to “do whatever is necessary” to aid the investigation in Belgium.\\n\\nThe assaults brought Brussels to a virtual standstill. The subway and the airport were closed — the latter will remain so on Wednesday — and Belgian leaders warned residents to stay indoors. Foreign governments, including Britain, issued advisories warning against travel to the Belgian capital.\\n\\nIn France — where 130 people died Nov. 13 in attacks on a stadium, a music club and restaurants — Interior Minister Bernard Cazeneuve said that an additional 1,600 police officers were deployed and that security was boosted at border posts and major transportation hubs.\\n\\nOn social media, an image soon appeared: a figure draped in the colors of the French flag embracing another tearful figure in the black, yellow and red of Belgium’s banner.\\n\\nAt a news conference in Jordan, the E.U.’s foreign policy chief, Federica Mogherini, choked back tears after learning of the Brussels attacks.\\n\\nBelgium, a nation riven by ethnic rivalries among French, Dutch and German speakers, has struggled to address radicalization in its cities. A complex patchwork of security and police agencies is responsible for keeping an eye on potential threats. Many of them view one another as rivals rather than as colleagues.\\n\\nStill, security analysts said attacks on unsecured, high-traffic targets such as subway stations are extremely hard to defend against — even when authorities are focused on foiling such plots.\\n\\n“This is a kind of scenario every capital in Europe feared since the November attacks last year. A mixture of foreign fighters coming back with experience, local sympathizers on the other hand,” said Rik Coolsaet, a terrorism expert at Ghent University who has advised the Belgian government on how to fight radicalization. “You have such a large number of soft targets, and you cannot secure all of them.”\\n\\nBirnbaum reported from Moscow. James McAuley and Anthony Faiola in Brussels, Daniela Deane and Karla Adam in London, and Brian Murphy, Carol Morello and Matt Zapotosky in Washington contributed to this report.\\n\\nLive updates on the death toll, attack scenes and reactions around the world\\n\\nWhy is Brussels under attack?\\n\\nAt NATO headquarters, alert status raised just miles from attacks\\n\\nToday’s coverage from Post correspondents around the world']"
            ]
          },
          "metadata": {},
          "execution_count": 11
        }
      ]
    },
    {
      "cell_type": "code",
      "source": [
        "df.drop(index=[6330,6331], inplace=True)"
      ],
      "metadata": {
        "id": "Cbba-UXZCRJ3"
      },
      "execution_count": 12,
      "outputs": []
    },
    {
      "cell_type": "markdown",
      "source": [
        "**Splitting the dataset**"
      ],
      "metadata": {
        "id": "fNIdkrp9Clcp"
      }
    },
    {
      "cell_type": "code",
      "source": [
        "from sklearn.model_selection import train_test_split\n",
        "\n",
        "X_train, X_test, y_train, y_test = train_test_split(df.text, df.label, test_size=.25, random_state=42)"
      ],
      "metadata": {
        "id": "FpunnJtYCh3A"
      },
      "execution_count": 13,
      "outputs": []
    },
    {
      "cell_type": "code",
      "source": [
        "X_train"
      ],
      "metadata": {
        "colab": {
          "base_uri": "https://localhost:8080/"
        },
        "id": "xkqeL4FdCzFi",
        "outputId": "aa5eb16d-af7f-4db7-b7cc-3df3d2d7d997"
      },
      "execution_count": 14,
      "outputs": [
        {
          "output_type": "execute_result",
          "data": {
            "text/plain": [
              "5030    \"I could stand in the middle of 5th Avenue and...\n",
              "2598    A verdict in 2017 could have sweeping conseque...\n",
              "12      Click Here To Learn More About Alexandra's Per...\n",
              "1117    Posted on October 28, 2016 by Joe from MassPri...\n",
              "4600    Olive Branch, Mississippi (CNN) Ted Cruz gushe...\n",
              "                              ...                        \n",
              "3772    What happened was less a debate among contende...\n",
              "5191    Clinton, FBIGate and the true depth of the Oba...\n",
              "5226    Fearing Election Day Trouble, Some US Schools ...\n",
              "5390    President Obama’s appearance at a town hall me...\n",
              "860     A man protests against international trade agr...\n",
              "Name: text, Length: 4749, dtype: object"
            ]
          },
          "metadata": {},
          "execution_count": 14
        }
      ]
    },
    {
      "cell_type": "code",
      "source": [
        "X_test"
      ],
      "metadata": {
        "colab": {
          "base_uri": "https://localhost:8080/"
        },
        "id": "dpZe-x5XC0-L",
        "outputId": "f3d460d8-249a-42ec-cd1f-4f63b873c557"
      },
      "execution_count": 15,
      "outputs": [
        {
          "output_type": "execute_result",
          "data": {
            "text/plain": [
              "5260    Share on Facebook Share on Twitter Human histo...\n",
              "2302    Assad Says The \"Boy In The Ambulance\" Is Fake ...\n",
              "4507      American Woman In Bikini Desecrates French C...\n",
              "5391    The Washington Post reported on Wednesday nigh...\n",
              "5007    The Clinton campaign reacted with yet another ...\n",
              "                              ...                        \n",
              "4950    Donald Trump is an unusual candidate who does ...\n",
              "1561    “I was never given any kind of dress code. I w...\n",
              "2584    Embargo Remains Politically Contentious Within...\n",
              "2110    It seems like every few weeks we get a new exp...\n",
              "944     Today, President Obama will roll out the final...\n",
              "Name: text, Length: 1584, dtype: object"
            ]
          },
          "metadata": {},
          "execution_count": 15
        }
      ]
    },
    {
      "cell_type": "markdown",
      "source": [
        "**Vectorization**"
      ],
      "metadata": {
        "id": "jg9QXuEwC9J1"
      }
    },
    {
      "cell_type": "code",
      "source": [
        "from sklearn.feature_extraction.text import CountVectorizer \n",
        "\n",
        "vectorizer = CountVectorizer().fit(X_train) \n",
        "\n",
        "X_train = vectorizer.transform(X_train) \n",
        "X_test = vectorizer.transform(X_test) "
      ],
      "metadata": {
        "id": "_4FtrFysC58c"
      },
      "execution_count": 16,
      "outputs": []
    },
    {
      "cell_type": "code",
      "source": [
        "X_train"
      ],
      "metadata": {
        "colab": {
          "base_uri": "https://localhost:8080/"
        },
        "id": "f1juKRC4DMfT",
        "outputId": "2b978828-f2ee-4407-bc5f-4fc23e979ba8"
      },
      "execution_count": 17,
      "outputs": [
        {
          "output_type": "execute_result",
          "data": {
            "text/plain": [
              "<4749x59573 sparse matrix of type '<class 'numpy.int64'>'\n",
              "\twith 1605188 stored elements in Compressed Sparse Row format>"
            ]
          },
          "metadata": {},
          "execution_count": 17
        }
      ]
    },
    {
      "cell_type": "code",
      "source": [
        "X_test"
      ],
      "metadata": {
        "colab": {
          "base_uri": "https://localhost:8080/"
        },
        "id": "Kt_Vqqt4DOvB",
        "outputId": "7437cd98-fd82-478d-8871-4a77e567bf2c"
      },
      "execution_count": 18,
      "outputs": [
        {
          "output_type": "execute_result",
          "data": {
            "text/plain": [
              "<1584x59573 sparse matrix of type '<class 'numpy.int64'>'\n",
              "\twith 543059 stored elements in Compressed Sparse Row format>"
            ]
          },
          "metadata": {},
          "execution_count": 18
        }
      ]
    },
    {
      "cell_type": "markdown",
      "source": [
        "**Machine learning Model using Naive Bayes Model**"
      ],
      "metadata": {
        "id": "659o5WQSDbEe"
      }
    },
    {
      "cell_type": "code",
      "source": [
        "from sklearn.naive_bayes import MultinomialNB \n",
        "\n",
        "model = MultinomialNB()\n",
        "\n",
        "model.fit(X_train, y_train)"
      ],
      "metadata": {
        "colab": {
          "base_uri": "https://localhost:8080/",
          "height": 75
        },
        "id": "ppdbuGA8DQwu",
        "outputId": "0acdb0cf-6193-4da2-e09a-9dab3788bb19"
      },
      "execution_count": 19,
      "outputs": [
        {
          "output_type": "execute_result",
          "data": {
            "text/plain": [
              "MultinomialNB()"
            ],
            "text/html": [
              "<style>#sk-container-id-1 {color: black;background-color: white;}#sk-container-id-1 pre{padding: 0;}#sk-container-id-1 div.sk-toggleable {background-color: white;}#sk-container-id-1 label.sk-toggleable__label {cursor: pointer;display: block;width: 100%;margin-bottom: 0;padding: 0.3em;box-sizing: border-box;text-align: center;}#sk-container-id-1 label.sk-toggleable__label-arrow:before {content: \"▸\";float: left;margin-right: 0.25em;color: #696969;}#sk-container-id-1 label.sk-toggleable__label-arrow:hover:before {color: black;}#sk-container-id-1 div.sk-estimator:hover label.sk-toggleable__label-arrow:before {color: black;}#sk-container-id-1 div.sk-toggleable__content {max-height: 0;max-width: 0;overflow: hidden;text-align: left;background-color: #f0f8ff;}#sk-container-id-1 div.sk-toggleable__content pre {margin: 0.2em;color: black;border-radius: 0.25em;background-color: #f0f8ff;}#sk-container-id-1 input.sk-toggleable__control:checked~div.sk-toggleable__content {max-height: 200px;max-width: 100%;overflow: auto;}#sk-container-id-1 input.sk-toggleable__control:checked~label.sk-toggleable__label-arrow:before {content: \"▾\";}#sk-container-id-1 div.sk-estimator input.sk-toggleable__control:checked~label.sk-toggleable__label {background-color: #d4ebff;}#sk-container-id-1 div.sk-label input.sk-toggleable__control:checked~label.sk-toggleable__label {background-color: #d4ebff;}#sk-container-id-1 input.sk-hidden--visually {border: 0;clip: rect(1px 1px 1px 1px);clip: rect(1px, 1px, 1px, 1px);height: 1px;margin: -1px;overflow: hidden;padding: 0;position: absolute;width: 1px;}#sk-container-id-1 div.sk-estimator {font-family: monospace;background-color: #f0f8ff;border: 1px dotted black;border-radius: 0.25em;box-sizing: border-box;margin-bottom: 0.5em;}#sk-container-id-1 div.sk-estimator:hover {background-color: #d4ebff;}#sk-container-id-1 div.sk-parallel-item::after {content: \"\";width: 100%;border-bottom: 1px solid gray;flex-grow: 1;}#sk-container-id-1 div.sk-label:hover label.sk-toggleable__label {background-color: #d4ebff;}#sk-container-id-1 div.sk-serial::before {content: \"\";position: absolute;border-left: 1px solid gray;box-sizing: border-box;top: 0;bottom: 0;left: 50%;z-index: 0;}#sk-container-id-1 div.sk-serial {display: flex;flex-direction: column;align-items: center;background-color: white;padding-right: 0.2em;padding-left: 0.2em;position: relative;}#sk-container-id-1 div.sk-item {position: relative;z-index: 1;}#sk-container-id-1 div.sk-parallel {display: flex;align-items: stretch;justify-content: center;background-color: white;position: relative;}#sk-container-id-1 div.sk-item::before, #sk-container-id-1 div.sk-parallel-item::before {content: \"\";position: absolute;border-left: 1px solid gray;box-sizing: border-box;top: 0;bottom: 0;left: 50%;z-index: -1;}#sk-container-id-1 div.sk-parallel-item {display: flex;flex-direction: column;z-index: 1;position: relative;background-color: white;}#sk-container-id-1 div.sk-parallel-item:first-child::after {align-self: flex-end;width: 50%;}#sk-container-id-1 div.sk-parallel-item:last-child::after {align-self: flex-start;width: 50%;}#sk-container-id-1 div.sk-parallel-item:only-child::after {width: 0;}#sk-container-id-1 div.sk-dashed-wrapped {border: 1px dashed gray;margin: 0 0.4em 0.5em 0.4em;box-sizing: border-box;padding-bottom: 0.4em;background-color: white;}#sk-container-id-1 div.sk-label label {font-family: monospace;font-weight: bold;display: inline-block;line-height: 1.2em;}#sk-container-id-1 div.sk-label-container {text-align: center;}#sk-container-id-1 div.sk-container {/* jupyter's `normalize.less` sets `[hidden] { display: none; }` but bootstrap.min.css set `[hidden] { display: none !important; }` so we also need the `!important` here to be able to override the default hidden behavior on the sphinx rendered scikit-learn.org. See: https://github.com/scikit-learn/scikit-learn/issues/21755 */display: inline-block !important;position: relative;}#sk-container-id-1 div.sk-text-repr-fallback {display: none;}</style><div id=\"sk-container-id-1\" class=\"sk-top-container\"><div class=\"sk-text-repr-fallback\"><pre>MultinomialNB()</pre><b>In a Jupyter environment, please rerun this cell to show the HTML representation or trust the notebook. <br />On GitHub, the HTML representation is unable to render, please try loading this page with nbviewer.org.</b></div><div class=\"sk-container\" hidden><div class=\"sk-item\"><div class=\"sk-estimator sk-toggleable\"><input class=\"sk-toggleable__control sk-hidden--visually\" id=\"sk-estimator-id-1\" type=\"checkbox\" checked><label for=\"sk-estimator-id-1\" class=\"sk-toggleable__label sk-toggleable__label-arrow\">MultinomialNB</label><div class=\"sk-toggleable__content\"><pre>MultinomialNB()</pre></div></div></div></div></div>"
            ]
          },
          "metadata": {},
          "execution_count": 19
        }
      ]
    },
    {
      "cell_type": "code",
      "source": [
        "from sklearn.metrics import classification_report \n",
        "\n",
        "print(classification_report(y_test, model.predict(X_test)))"
      ],
      "metadata": {
        "colab": {
          "base_uri": "https://localhost:8080/"
        },
        "id": "-AqgLshRDqYJ",
        "outputId": "5690ff39-4f67-4e4e-d3f6-c68e04f81132"
      },
      "execution_count": 20,
      "outputs": [
        {
          "output_type": "stream",
          "name": "stdout",
          "text": [
            "              precision    recall  f1-score   support\n",
            "\n",
            "           0       0.87      0.93      0.90       792\n",
            "           1       0.92      0.86      0.89       792\n",
            "\n",
            "    accuracy                           0.89      1584\n",
            "   macro avg       0.89      0.89      0.89      1584\n",
            "weighted avg       0.89      0.89      0.89      1584\n",
            "\n"
          ]
        }
      ]
    },
    {
      "cell_type": "markdown",
      "source": [
        "**Test on stored data**"
      ],
      "metadata": {
        "id": "fWW0gbljD32u"
      }
    },
    {
      "cell_type": "code",
      "source": [
        "def fake_news(text):\n",
        "    text_series = pd.Series(text) \n",
        "    text_vectorized = vectorizer.transform(text_series)\n",
        "    preds = model.predict(text_vectorized)\n",
        "    probs = model.predict_proba(text_vectorized)[:,1]\n",
        "    final_df = pd.DataFrame({'Text': text_series, 'Label':preds, 'Is_Fake_Probability':probs})\n",
        "    return final_df"
      ],
      "metadata": {
        "id": "-w1E3h6ADyBY"
      },
      "execution_count": 21,
      "outputs": []
    },
    {
      "cell_type": "code",
      "source": [
        "fake_news(news)"
      ],
      "metadata": {
        "colab": {
          "base_uri": "https://localhost:8080/",
          "height": 112
        },
        "id": "2lEGX-5KEB-7",
        "outputId": "cb695c6e-3051-418d-a188-f49b3cbe416b"
      },
      "execution_count": 23,
      "outputs": [
        {
          "output_type": "execute_result",
          "data": {
            "text/plain": [
              "                                                Text  Label  Is_Fake_Proba\n",
              "0  Joe Biden doesn't sound like a man who's prepa...      0   2.691736e-64\n",
              "1  Islamic State suicide bombers brought terror, ...      0  3.621066e-113"
            ],
            "text/html": [
              "\n",
              "  <div id=\"df-2a287953-3be0-49ce-a5de-eca18d77c3de\">\n",
              "    <div class=\"colab-df-container\">\n",
              "      <div>\n",
              "<style scoped>\n",
              "    .dataframe tbody tr th:only-of-type {\n",
              "        vertical-align: middle;\n",
              "    }\n",
              "\n",
              "    .dataframe tbody tr th {\n",
              "        vertical-align: top;\n",
              "    }\n",
              "\n",
              "    .dataframe thead th {\n",
              "        text-align: right;\n",
              "    }\n",
              "</style>\n",
              "<table border=\"1\" class=\"dataframe\">\n",
              "  <thead>\n",
              "    <tr style=\"text-align: right;\">\n",
              "      <th></th>\n",
              "      <th>Text</th>\n",
              "      <th>Label</th>\n",
              "      <th>Is_Fake_Proba</th>\n",
              "    </tr>\n",
              "  </thead>\n",
              "  <tbody>\n",
              "    <tr>\n",
              "      <th>0</th>\n",
              "      <td>Joe Biden doesn't sound like a man who's prepa...</td>\n",
              "      <td>0</td>\n",
              "      <td>2.691736e-64</td>\n",
              "    </tr>\n",
              "    <tr>\n",
              "      <th>1</th>\n",
              "      <td>Islamic State suicide bombers brought terror, ...</td>\n",
              "      <td>0</td>\n",
              "      <td>3.621066e-113</td>\n",
              "    </tr>\n",
              "  </tbody>\n",
              "</table>\n",
              "</div>\n",
              "      <button class=\"colab-df-convert\" onclick=\"convertToInteractive('df-2a287953-3be0-49ce-a5de-eca18d77c3de')\"\n",
              "              title=\"Convert this dataframe to an interactive table.\"\n",
              "              style=\"display:none;\">\n",
              "        \n",
              "  <svg xmlns=\"http://www.w3.org/2000/svg\" height=\"24px\"viewBox=\"0 0 24 24\"\n",
              "       width=\"24px\">\n",
              "    <path d=\"M0 0h24v24H0V0z\" fill=\"none\"/>\n",
              "    <path d=\"M18.56 5.44l.94 2.06.94-2.06 2.06-.94-2.06-.94-.94-2.06-.94 2.06-2.06.94zm-11 1L8.5 8.5l.94-2.06 2.06-.94-2.06-.94L8.5 2.5l-.94 2.06-2.06.94zm10 10l.94 2.06.94-2.06 2.06-.94-2.06-.94-.94-2.06-.94 2.06-2.06.94z\"/><path d=\"M17.41 7.96l-1.37-1.37c-.4-.4-.92-.59-1.43-.59-.52 0-1.04.2-1.43.59L10.3 9.45l-7.72 7.72c-.78.78-.78 2.05 0 2.83L4 21.41c.39.39.9.59 1.41.59.51 0 1.02-.2 1.41-.59l7.78-7.78 2.81-2.81c.8-.78.8-2.07 0-2.86zM5.41 20L4 18.59l7.72-7.72 1.47 1.35L5.41 20z\"/>\n",
              "  </svg>\n",
              "      </button>\n",
              "      \n",
              "  <style>\n",
              "    .colab-df-container {\n",
              "      display:flex;\n",
              "      flex-wrap:wrap;\n",
              "      gap: 12px;\n",
              "    }\n",
              "\n",
              "    .colab-df-convert {\n",
              "      background-color: #E8F0FE;\n",
              "      border: none;\n",
              "      border-radius: 50%;\n",
              "      cursor: pointer;\n",
              "      display: none;\n",
              "      fill: #1967D2;\n",
              "      height: 32px;\n",
              "      padding: 0 0 0 0;\n",
              "      width: 32px;\n",
              "    }\n",
              "\n",
              "    .colab-df-convert:hover {\n",
              "      background-color: #E2EBFA;\n",
              "      box-shadow: 0px 1px 2px rgba(60, 64, 67, 0.3), 0px 1px 3px 1px rgba(60, 64, 67, 0.15);\n",
              "      fill: #174EA6;\n",
              "    }\n",
              "\n",
              "    [theme=dark] .colab-df-convert {\n",
              "      background-color: #3B4455;\n",
              "      fill: #D2E3FC;\n",
              "    }\n",
              "\n",
              "    [theme=dark] .colab-df-convert:hover {\n",
              "      background-color: #434B5C;\n",
              "      box-shadow: 0px 1px 3px 1px rgba(0, 0, 0, 0.15);\n",
              "      filter: drop-shadow(0px 1px 2px rgba(0, 0, 0, 0.3));\n",
              "      fill: #FFFFFF;\n",
              "    }\n",
              "  </style>\n",
              "\n",
              "      <script>\n",
              "        const buttonEl =\n",
              "          document.querySelector('#df-2a287953-3be0-49ce-a5de-eca18d77c3de button.colab-df-convert');\n",
              "        buttonEl.style.display =\n",
              "          google.colab.kernel.accessAllowed ? 'block' : 'none';\n",
              "\n",
              "        async function convertToInteractive(key) {\n",
              "          const element = document.querySelector('#df-2a287953-3be0-49ce-a5de-eca18d77c3de');\n",
              "          const dataTable =\n",
              "            await google.colab.kernel.invokeFunction('convertToInteractive',\n",
              "                                                     [key], {});\n",
              "          if (!dataTable) return;\n",
              "\n",
              "          const docLinkHtml = 'Like what you see? Visit the ' +\n",
              "            '<a target=\"_blank\" href=https://colab.research.google.com/notebooks/data_table.ipynb>data table notebook</a>'\n",
              "            + ' to learn more about interactive tables.';\n",
              "          element.innerHTML = '';\n",
              "          dataTable['output_type'] = 'display_data';\n",
              "          await google.colab.output.renderOutput(dataTable, element);\n",
              "          const docLink = document.createElement('div');\n",
              "          docLink.innerHTML = docLinkHtml;\n",
              "          element.appendChild(docLink);\n",
              "        }\n",
              "      </script>\n",
              "    </div>\n",
              "  </div>\n",
              "  "
            ]
          },
          "metadata": {},
          "execution_count": 23
        }
      ]
    },
    {
      "cell_type": "code",
      "source": [],
      "metadata": {
        "id": "g1BpTEP2EGWE"
      },
      "execution_count": null,
      "outputs": []
    }
  ]
}